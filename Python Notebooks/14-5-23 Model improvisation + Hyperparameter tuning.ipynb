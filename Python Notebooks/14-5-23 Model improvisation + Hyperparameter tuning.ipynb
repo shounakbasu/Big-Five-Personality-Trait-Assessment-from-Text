{
 "cells": [
  {
   "cell_type": "code",
   "execution_count": 1,
   "id": "310b2273",
   "metadata": {},
   "outputs": [],
   "source": [
    "import pandas as pd\n",
    "import matplotlib.pyplot as plt\n",
    "import nltk\n",
    "from nltk.corpus import stopwords\n",
    "from nltk.tokenize import word_tokenize\n",
    "from nltk.stem import PorterStemmer\n",
    "from sklearn.feature_extraction.text import CountVectorizer, TfidfVectorizer\n",
    "from sklearn.naive_bayes import MultinomialNB\n",
    "from sklearn.linear_model import LogisticRegression\n",
    "from sklearn.ensemble import RandomForestClassifier, VotingClassifier\n",
    "from sklearn.metrics import accuracy_score\n",
    "from sklearn.metrics import accuracy_score, f1_score, precision_score, recall_score\n",
    "\n",
    "# Load the dataset\n",
    "df1 = pd.read_excel('bng2eng2/train/ConscientiousnessTrain.xlsx')\n",
    "df2 = pd.read_excel('bng2eng2/train/AgreeablenessTrain.xlsx')\n",
    "df3 = pd.read_excel('bng2eng2/train/NeuroticismTrain.xlsx')\n",
    "df4 = pd.read_excel('bng2eng2/train/ExtroversionTrain.xlsx')\n",
    "df5 = pd.read_excel('bng2eng2/train/OpennessTrain.xlsx')\n",
    "train_df = pd.concat([df1, df2, df3, df4, df5], ignore_index=True)\n",
    "train_df = train_df.drop(\"status\", axis='columns')\n",
    "\n",
    "df6 = pd.read_excel('bng2eng2/test/ConscientiousnessTest.xlsx')\n",
    "df7 = pd.read_excel('bng2eng2/test/AgreeablenessTest.xlsx')\n",
    "df8 = pd.read_excel('bng2eng2/test/NeuroticismTest.xlsx')\n",
    "df9 = pd.read_excel('bng2eng2/test/ExtroversionTest.xlsx')\n",
    "df10 = pd.read_excel('bng2eng2/test/OpennessTest.xlsx')\n",
    "test_df = pd.concat([df6, df7, df8, df9, df10], ignore_index=True)\n",
    "test_df = test_df.drop(\"status\", axis='columns')\n",
    "\n",
    "# Data preprocessing\n",
    "# Convert text to lowercase\n",
    "train_df['status_text'] = train_df['status_text'].apply(lambda x: x.lower())\n",
    "test_df['status_text'] = test_df['status_text'].apply(lambda y: str(y).lower())\n",
    "\n",
    "# Remove stopwords\n",
    "stop_words = set(stopwords.words('english'))\n",
    "train_df['status_text'] = train_df['status_text'].apply(lambda x: ' '.join([word for word in x.split() if word not in stop_words]))\n",
    "test_df['status_text'] = test_df['status_text'].apply(lambda x: ' '.join([word for word in x.split() if word not in stop_words]))\n",
    "\n",
    "# Tokenization\n",
    "train_df['status_text'] = train_df['status_text'].apply(lambda x: word_tokenize(x))\n",
    "test_df['status_text'] = test_df['status_text'].apply(lambda x: word_tokenize(x))\n",
    "\n",
    "# Stemming\n",
    "stemmer = PorterStemmer()\n",
    "train_df['status_text'] = train_df['status_text'].apply(lambda x: [stemmer.stem(word) for word in x])\n",
    "test_df['status_text'] = test_df['status_text'].apply(lambda x: [stemmer.stem(word) for word in x])\n",
    "test_df\n",
    "\n",
    "# Convert list of tokens back to text\n",
    "train_df['status_text'] = train_df['status_text'].apply(lambda x: ' '.join(x))\n",
    "test_df['status_text'] = test_df['status_text'].apply(lambda x: ' '.join(x))\n",
    "train_df\n",
    "\n",
    "# Feature extraction using bag-of-words model\n",
    "count_vectorizer = CountVectorizer()\n",
    "X_train_counts = count_vectorizer.fit_transform(train_df['status_text'])\n",
    "X_test_counts = count_vectorizer.transform(test_df['status_text'])\n",
    "\n",
    "# Feature extraction using TF-IDF vectorizer\n",
    "tfidf_vectorizer = TfidfVectorizer()\n",
    "X_train_tfidf = tfidf_vectorizer.fit_transform(train_df['status_text'])\n",
    "X_test_tfidf = tfidf_vectorizer.transform(test_df['status_text'])\n",
    "\n",
    "# # Build a Multinomial Naive Bayes model using bag-of-words features\n",
    "# mnb_counts_model = MultinomialNB()\n",
    "# mnb_counts_model.fit(X_train_counts, train_df['label'])"
   ]
  },
  {
   "cell_type": "markdown",
   "id": "6ae42548",
   "metadata": {},
   "source": [
    "## Multinomial Naive Bayes"
   ]
  },
  {
   "cell_type": "code",
   "execution_count": 2,
   "id": "a225e54e",
   "metadata": {},
   "outputs": [
    {
     "name": "stdout",
     "output_type": "stream",
     "text": [
      "Accuracy using bag-of-words features with alpha=0.3: 0.3482587064676617\n",
      "Accuracy using bag-of-words features with alpha=0.35: 0.351575456053068\n",
      "Accuracy using bag-of-words features with alpha=0.4: 0.3548922056384743\n",
      "Accuracy using bag-of-words features with alpha=0.5: 0.34991708126036486\n",
      "Accuracy using bag-of-words features: 0.34991708126036486\n"
     ]
    }
   ],
   "source": [
    "# Build a Multinomial Naive Bayes model using bag-of-words features with different alpha values\n",
    "alpha_values = [0.3, 0.35, 0.4, 0.5]\n",
    "for alpha in alpha_values:\n",
    "    mnb_counts_model = MultinomialNB(alpha=alpha)\n",
    "    mnb_counts_model.fit(X_train_counts, train_df['label'])\n",
    "\n",
    "    # Evaluate the model on the testing set using bag-of-words features\n",
    "    y_pred_counts = mnb_counts_model.predict(X_test_counts)\n",
    "    accuracy_counts = accuracy_score(test_df['label'], y_pred_counts)\n",
    "\n",
    "    print(\"Accuracy using bag-of-words features with alpha={}:\".format(alpha), accuracy_counts)\n",
    "\n",
    "\n",
    "# Evaluate the model on the testing set using bag-of-words features\n",
    "y_pred_counts = mnb_counts_model.predict(X_test_counts)\n",
    "accuracy_counts = accuracy_score(test_df['label'], y_pred_counts)\n",
    "\n",
    "print(\"Accuracy using bag-of-words features:\", accuracy_counts)"
   ]
  },
  {
   "cell_type": "code",
   "execution_count": 3,
   "id": "e380e6b1",
   "metadata": {},
   "outputs": [
    {
     "data": {
      "image/png": "[encoded data removed]",
      "text/plain": [
       "<Figure size 432x288 with 1 Axes>"
      ]
     },
     "metadata": {
      "needs_background": "light"
     },
     "output_type": "display_data"
    },
    {
     "data": {
      "image/png": "[encoded data removed]",
      "text/plain": [
       "<Figure size 432x288 with 1 Axes>"
      ]
     },
     "metadata": {
      "needs_background": "light"
     },
     "output_type": "display_data"
    }
   ],
   "source": [
    "alpha_values = ['0.3', '0.35', '0.4', '0.5']\n",
    "accuracies = [0.3482587064676617, 0.351575456053068, 0.3548922056384743, 0.34991708126036486]\n",
    "\n",
    "plt.bar(alpha_values, accuracies)\n",
    "plt.title('Accuracy using Bag-of-words features with different alpha values')\n",
    "plt.xlabel('Alpha values')\n",
    "plt.ylabel('Accuracy')\n",
    "plt.show()\n",
    "plt.plot(alpha_values, accuracies)\n",
    "plt.title('Accuracy vs Alpha')\n",
    "plt.xlabel('Alpha')\n",
    "plt.ylabel('Accuracy')\n",
    "plt.show()"
   ]
  },
  {
   "cell_type": "code",
   "execution_count": 4,
   "id": "0bbbdf2c",
   "metadata": {},
   "outputs": [
    {
     "name": "stdout",
     "output_type": "stream",
     "text": [
      "Accuracy using MNB+ TF-IDF features with alpha=0.1: 32.50414593698176\n",
      "Accuracy using MNB+ TF-IDF features with alpha=0.2: 33.16749585406302\n",
      "Accuracy using MNB+ TF-IDF features with alpha=0.29: 34.32835820895522\n",
      "Accuracy using MNB+ TF-IDF features with alpha=0.3: 34.660033167495854\n",
      "Accuracy using MNB+ TF-IDF features with alpha=0.35: 33.99668325041459\n",
      "Accuracy using MNB+ TF-IDF features with alpha=0.4: 32.83582089552239\n",
      "Accuracy using MNB+ TF-IDF features with alpha=0.5: 33.16749585406302\n",
      "Accuracy using MNB+ TF-IDF features with alpha=0.7: 32.66998341625207\n"
     ]
    }
   ],
   "source": [
    "# # Build a Multinomial Naive Bayes model using TF-IDF features\n",
    "# mnb_tfidf_model = MultinomialNB()\n",
    "# mnb_tfidf_model.fit(X_train_tfidf, train_df['label'])\n",
    "\n",
    "# Build a Multinomial Naive Bayes model using TF-IDF features with different alpha values\n",
    "alpha_values = [0.1, 0.2, 0.29, 0.3, 0.35, 0.4, 0.5, 0.7]\n",
    "for alpha in alpha_values:\n",
    "    mnb_tfidf_model = MultinomialNB(alpha=alpha)\n",
    "    mnb_tfidf_model.fit(X_train_tfidf, train_df['label'])\n",
    "\n",
    "    # Evaluate the model on the testing set using TF-IDF features\n",
    "    y_pred_tfidf = mnb_tfidf_model.predict(X_test_tfidf)\n",
    "    accuracy_tfidf = accuracy_score(test_df['label'], y_pred_tfidf)\n",
    "\n",
    "    print(\"Accuracy using MNB+ TF-IDF features with alpha={}:\".format(alpha), accuracy_tfidf*100)\n",
    "\n",
    "# Evaluate the model on the testing set using TF-IDF features\n",
    "# y_pred_tfidf = mnb_tfidf_model.predict(X_test_tfidf)\n",
    "# accuracy_tfidf = accuracy_score(test_df['label'], y_pred_tfidf)\n",
    "# print(\"Accuracy using TF-IDF features:\", accuracy_tfidf)"
   ]
  },
  {
   "cell_type": "code",
   "execution_count": 5,
   "id": "7516f429",
   "metadata": {},
   "outputs": [
    {
     "data": {
      "image/png": "[encoded data removed]",
      "text/plain": [
       "<Figure size 432x288 with 1 Axes>"
      ]
     },
     "metadata": {
      "needs_background": "light"
     },
     "output_type": "display_data"
    },
    {
     "data": {
      "image/png": "[encoded data removed]",
      "text/plain": [
       "<Figure size 432x288 with 1 Axes>"
      ]
     },
     "metadata": {
      "needs_background": "light"
     },
     "output_type": "display_data"
    }
   ],
   "source": [
    "alpha_values = ['0.1', '0.2', '0.29', '0.3', '0.35', '0.4', '0.5', '0.7']\n",
    "accuracies = [ 0.3250414593698176, 0.3316749585406302, 0.3432835820895522, 0.34660033167495854, 0.3399668325041459, 0.3283582089552239, 0.3316749585406302, 0.3266998341625207]\n",
    "\n",
    "plt.bar(alpha_values, accuracies)\n",
    "plt.title('Accuracy using TF-IDF features with different alpha values')\n",
    "plt.xlabel('Alpha values')\n",
    "plt.ylabel('Accuracy')\n",
    "plt.show()\n",
    "plt.plot(alpha_values, accuracies)\n",
    "plt.title('Accuracy vs Alpha')\n",
    "plt.xlabel('Alpha')\n",
    "plt.ylabel('Accuracy')\n",
    "plt.show()"
   ]
  },
  {
   "cell_type": "markdown",
   "id": "a66fc856",
   "metadata": {},
   "source": [
    "## Random Forest"
   ]
  },
  {
   "cell_type": "code",
   "execution_count": 6,
   "id": "9ebe7fe6",
   "metadata": {},
   "outputs": [
    {
     "name": "stdout",
     "output_type": "stream",
     "text": [
      "Accuracy using Random Forest(100) and TF-IDF features: 29.85%\n",
      "F1 Score using Random Forest(100) and TF-IDF features: 28.78%\n",
      "Precision using Random Forest(100) and TF-IDF features: 29.61%\n",
      "Recall using Random Forest(100) and TF-IDF features: 29.12%\n"
     ]
    }
   ],
   "source": [
    "rf_model = RandomForestClassifier(n_estimators=100)\n",
    "rf_model.fit(X_train_tfidf, train_df['label'])\n",
    "\n",
    "# Evaluate the model on the testing set using TF-IDF features\n",
    "y_pred_rf = rf_model.predict(X_test_tfidf)\n",
    "\n",
    "# Calculate accuracy, F1 score, precision, recall\n",
    "accuracy_rf_tfidf = accuracy_score(test_df['label'], y_pred_rf)\n",
    "f1_rf_tfidf = f1_score(test_df['label'], y_pred_rf, average='macro')\n",
    "precision_rf_tfidf = precision_score(test_df['label'], y_pred_rf, average='macro')\n",
    "recall_rf_tfidf = recall_score(test_df['label'], y_pred_rf, average='macro')\n",
    "\n",
    "print(\"Accuracy using Random Forest(100) and TF-IDF features: {:.2f}%\".format(accuracy_rf_tfidf*100))\n",
    "print(\"F1 Score using Random Forest(100) and TF-IDF features: {:.2f}%\".format(f1_rf_tfidf*100))\n",
    "print(\"Precision using Random Forest(100) and TF-IDF features: {:.2f}%\".format(precision_rf_tfidf*100))\n",
    "print(\"Recall using Random Forest(100) and TF-IDF features: {:.2f}%\".format(recall_rf_tfidf*100))"
   ]
  },
  {
   "cell_type": "code",
   "execution_count": 7,
   "id": "73ebf9e1",
   "metadata": {},
   "outputs": [
    {
     "name": "stdout",
     "output_type": "stream",
     "text": [
      "Accuracy using Random Forest(400) and TF-IDF features: 30.02%\n",
      "F1 Score using Random Forest(400) and TF-IDF features: 28.66%\n",
      "Precision using Random Forest(400) and TF-IDF features: 29.51%\n",
      "Recall using Random Forest(400) and TF-IDF features: 29.09%\n"
     ]
    }
   ],
   "source": [
    "rf_model3 = RandomForestClassifier(n_estimators=150)\n",
    "rf_model3.fit(X_train_tfidf, train_df['label'])\n",
    "\n",
    "# Evaluate the model on the testing set using TF-IDF features\n",
    "y_pred_rf3 = rf_model3.predict(X_test_tfidf)\n",
    "\n",
    "# Calculate accuracy, F1 score, precision, recall\n",
    "accuracy_rf_tfidf3 = accuracy_score(test_df['label'], y_pred_rf3)\n",
    "f1_rf_tfidf3 = f1_score(test_df['label'], y_pred_rf3, average='macro')\n",
    "precision_rf_tfidf3 = precision_score(test_df['label'], y_pred_rf3, average='macro')\n",
    "recall_rf_tfidf3 = recall_score(test_df['label'], y_pred_rf3, average='macro')\n",
    "\n",
    "print(\"Accuracy using Random Forest(400) and TF-IDF features: {:.2f}%\".format(accuracy_rf_tfidf3*100))\n",
    "print(\"F1 Score using Random Forest(400) and TF-IDF features: {:.2f}%\".format(f1_rf_tfidf3*100))\n",
    "print(\"Precision using Random Forest(400) and TF-IDF features: {:.2f}%\".format(precision_rf_tfidf3*100))\n",
    "print(\"Recall using Random Forest(400) and TF-IDF features: {:.2f}%\".format(recall_rf_tfidf3*100))"
   ]
  },
  {
   "cell_type": "code",
   "execution_count": 8,
   "id": "0dca1cd9",
   "metadata": {},
   "outputs": [
    {
     "name": "stdout",
     "output_type": "stream",
     "text": [
      "Accuracy using Random Forest(200) and TF-IDF features: 32.67%\n",
      "F1 Score using Random Forest(200) and TF-IDF features: 31.51%\n",
      "Precision using Random Forest(200) and TF-IDF features: 33.05%\n",
      "Recall using Random Forest(200) and TF-IDF features: 31.74%\n"
     ]
    }
   ],
   "source": [
    "rf_model1 = RandomForestClassifier(n_estimators=200)\n",
    "rf_model1.fit(X_train_tfidf, train_df['label'])\n",
    "\n",
    "# Evaluate the model on the testing set using TF-IDF features\n",
    "y_pred_rf1 = rf_model1.predict(X_test_tfidf)\n",
    "# Calculate accuracy, F1 score, precision, recall\n",
    "accuracy_rf_tfidf1 = accuracy_score(test_df['label'], y_pred_rf1)\n",
    "f1_rf_tfidf1 = f1_score(test_df['label'], y_pred_rf1, average='macro')\n",
    "precision_rf_tfidf1 = precision_score(test_df['label'], y_pred_rf1, average='macro')\n",
    "recall_rf_tfidf1 = recall_score(test_df['label'], y_pred_rf1, average='macro')\n",
    "\n",
    "print(\"Accuracy using Random Forest(200) and TF-IDF features: {:.2f}%\".format(accuracy_rf_tfidf1*100))\n",
    "print(\"F1 Score using Random Forest(200) and TF-IDF features: {:.2f}%\".format(f1_rf_tfidf1*100))\n",
    "print(\"Precision using Random Forest(200) and TF-IDF features: {:.2f}%\".format(precision_rf_tfidf1*100))\n",
    "print(\"Recall using Random Forest(200) and TF-IDF features: {:.2f}%\".format(recall_rf_tfidf1*100))"
   ]
  },
  {
   "cell_type": "code",
   "execution_count": 9,
   "id": "53614428",
   "metadata": {},
   "outputs": [
    {
     "name": "stdout",
     "output_type": "stream",
     "text": [
      "Accuracy using Random Forest and TF-IDF features: 32.34%\n",
      "F1 Score using Random Forest and TF-IDF features: 30.73%\n",
      "Precision using Random Forest and TF-IDF features: 32.57%\n",
      "Recall using Random Forest and TF-IDF features: 31.24%\n"
     ]
    }
   ],
   "source": [
    "rf_model1 = RandomForestClassifier(n_estimators=250)\n",
    "rf_model1.fit(X_train_tfidf, train_df['label'])\n",
    "\n",
    "# Evaluate the model on the testing set using TF-IDF features\n",
    "y_pred_rf1 = rf_model1.predict(X_test_tfidf)\n",
    "\n",
    "# Calculate accuracy, F1 score, precision, recall\n",
    "accuracy_rf_tfidf1 = accuracy_score(test_df['label'], y_pred_rf1)\n",
    "f1_rf_tfidf1 = f1_score(test_df['label'], y_pred_rf1, average='macro')\n",
    "precision_rf_tfidf1 = precision_score(test_df['label'], y_pred_rf1, average='macro')\n",
    "recall_rf_tfidf1 = recall_score(test_df['label'], y_pred_rf1, average='macro')\n",
    "\n",
    "print(\"Accuracy using Random Forest and TF-IDF features: {:.2f}%\".format(accuracy_rf_tfidf1*100))\n",
    "print(\"F1 Score using Random Forest and TF-IDF features: {:.2f}%\".format(f1_rf_tfidf1*100))\n",
    "print(\"Precision using Random Forest and TF-IDF features: {:.2f}%\".format(precision_rf_tfidf1*100))\n",
    "print(\"Recall using Random Forest and TF-IDF features: {:.2f}%\".format(recall_rf_tfidf1*100))"
   ]
  },
  {
   "cell_type": "code",
   "execution_count": 10,
   "id": "1d9f58d2",
   "metadata": {},
   "outputs": [
    {
     "name": "stdout",
     "output_type": "stream",
     "text": [
      "Accuracy using Random Forest and TF-IDF features: 32.17%\n",
      "F1 Score using Random Forest and TF-IDF features: 30.52%\n",
      "Precision using Random Forest and TF-IDF features: 32.56%\n",
      "Recall using Random Forest and TF-IDF features: 30.95%\n"
     ]
    }
   ],
   "source": [
    "rf_model4 = RandomForestClassifier(n_estimators=400)\n",
    "rf_model4.fit(X_train_tfidf, train_df['label'])\n",
    "\n",
    "# Evaluate the model on the testing set using TF-IDF features\n",
    "y_pred_rf4 = rf_model4.predict(X_test_tfidf)\n",
    "# Calculate accuracy, F1 score, precision, recall\n",
    "accuracy_rf_tfidf4 = accuracy_score(test_df['label'], y_pred_rf4)\n",
    "f1_rf_tfidf4 = f1_score(test_df['label'], y_pred_rf4, average='macro')\n",
    "precision_rf_tfidf4 = precision_score(test_df['label'], y_pred_rf4, average='macro')\n",
    "recall_rf_tfidf4 = recall_score(test_df['label'], y_pred_rf4, average='macro')\n",
    "\n",
    "print(\"Accuracy using Random Forest and TF-IDF features: {:.2f}%\".format(accuracy_rf_tfidf4*100))\n",
    "print(\"F1 Score using Random Forest and TF-IDF features: {:.2f}%\".format(f1_rf_tfidf4*100))\n",
    "print(\"Precision using Random Forest and TF-IDF features: {:.2f}%\".format(precision_rf_tfidf4*100))\n",
    "print(\"Recall using Random Forest and TF-IDF features: {:.2f}%\".format(recall_rf_tfidf4*100))"
   ]
  },
  {
   "cell_type": "code",
   "execution_count": 11,
   "id": "e5125932",
   "metadata": {},
   "outputs": [
    {
     "name": "stdout",
     "output_type": "stream",
     "text": [
      "Accuracy using Random Forest(300) and TF-IDF features: 32.01%\n",
      "F1 Score using Random Forest(300) and TF-IDF features: 30.73%\n",
      "Precision using Random Forest(300) and TF-IDF features: 32.15%\n",
      "Recall using Random Forest(300) and TF-IDF features: 30.94%\n"
     ]
    }
   ],
   "source": [
    "rf_model2 = RandomForestClassifier(n_estimators=300)\n",
    "rf_model2.fit(X_train_tfidf, train_df['label'])\n",
    "\n",
    "# Evaluate the model on the testing set using TF-IDF features\n",
    "y_pred_rf2 = rf_model2.predict(X_test_tfidf)\n",
    "# Calculate accuracy, F1 score, precision, recall\n",
    "accuracy_rf_tfidf2 = accuracy_score(test_df['label'], y_pred_rf2)\n",
    "f1_rf_tfidf2 = f1_score(test_df['label'], y_pred_rf1, average='macro')\n",
    "precision_rf_tfidf2 = precision_score(test_df['label'], y_pred_rf2, average='macro')\n",
    "recall_rf_tfidf2 = recall_score(test_df['label'], y_pred_rf2, average='macro')\n",
    "\n",
    "print(\"Accuracy using Random Forest(300) and TF-IDF features: {:.2f}%\".format(accuracy_rf_tfidf2*100))\n",
    "print(\"F1 Score using Random Forest(300) and TF-IDF features: {:.2f}%\".format(f1_rf_tfidf2*100))\n",
    "print(\"Precision using Random Forest(300) and TF-IDF features: {:.2f}%\".format(precision_rf_tfidf2*100))\n",
    "print(\"Recall using Random Forest(300) and TF-IDF features: {:.2f}%\".format(recall_rf_tfidf2*100))"
   ]
  },
  {
   "cell_type": "code",
   "execution_count": 12,
   "id": "8497ca71",
   "metadata": {},
   "outputs": [
    {
     "data": {
      "image/png": "[encoded data removed]",
      "text/plain": [
       "<Figure size 432x288 with 1 Axes>"
      ]
     },
     "metadata": {
      "needs_background": "light"
     },
     "output_type": "display_data"
    },
    {
     "data": {
      "image/png": "[encoded data removed]",
      "text/plain": [
       "<Figure size 432x288 with 1 Axes>"
      ]
     },
     "metadata": {
      "needs_background": "light"
     },
     "output_type": "display_data"
    }
   ],
   "source": [
    "alpha_values = ['100', '150', '200', '250', '275', '300']\n",
    "accuracies = [ 30.35, 30.35, 32.01, 33.17, 32.67, 32.34]\n",
    "\n",
    "plt.bar(alpha_values, accuracies)\n",
    "plt.title('Accuracy of TF-IDF + Random forest (with different n_estimators values)')\n",
    "plt.xlabel('n_estimators')\n",
    "plt.ylabel('Accuracy %')\n",
    "plt.show()\n",
    "plt.plot(alpha_values, accuracies)\n",
    "plt.title('Accuracy vs n_estimators')\n",
    "plt.xlabel('n_estimators')\n",
    "plt.ylabel('Accuracy %')\n",
    "plt.show()"
   ]
  },
  {
   "cell_type": "code",
   "execution_count": 13,
   "id": "127574ed",
   "metadata": {},
   "outputs": [
    {
     "name": "stdout",
     "output_type": "stream",
     "text": [
      "Accuracy using Random Forest(100) and TF-IDF features: 31.34%\n",
      "F1 Score using Random Forest(100) and TF-IDF features: 30.24%\n",
      "Precision using Random Forest(100) and TF-IDF features: 30.78%\n",
      "Recall using Random Forest(100) and TF-IDF features: 30.66%\n"
     ]
    }
   ],
   "source": [
    "rf_model_counts = RandomForestClassifier(n_estimators=100)\n",
    "rf_model_counts.fit(X_train_counts, train_df['label'])\n",
    "\n",
    "# Evaluate the model on the testing set using TF-IDF features\n",
    "y_pred_rf_counts = rf_model_counts.predict(X_test_counts)\n",
    "\n",
    "# Calculate accuracy, F1 score, precision, recall\n",
    "accuracy_rf_counts = accuracy_score(test_df['label'], y_pred_rf_counts)\n",
    "f1_rf_counts = f1_score(test_df['label'], y_pred_rf_counts, average='macro')\n",
    "precision_rf_counts = precision_score(test_df['label'], y_pred_rf_counts, average='macro')\n",
    "recall_rf_counts = recall_score(test_df['label'], y_pred_rf_counts, average='macro')\n",
    "\n",
    "print(\"Accuracy using Random Forest(100) and TF-IDF features: {:.2f}%\".format(accuracy_rf_counts*100))\n",
    "print(\"F1 Score using Random Forest(100) and TF-IDF features: {:.2f}%\".format(f1_rf_counts*100))\n",
    "print(\"Precision using Random Forest(100) and TF-IDF features: {:.2f}%\".format(precision_rf_counts*100))\n",
    "print(\"Recall using Random Forest(100) and TF-IDF features: {:.2f}%\".format(recall_rf_counts*100))"
   ]
  },
  {
   "cell_type": "code",
   "execution_count": 14,
   "id": "37807dee",
   "metadata": {},
   "outputs": [
    {
     "name": "stdout",
     "output_type": "stream",
     "text": [
      "Accuracy using Random Forest(200) and bag-of-words features: 32.34%\n",
      "F1 Score using Random Forest(200) and bag-of-words features: 31.50%\n",
      "Precision using Random Forest(200) and bag-of-words features: 33.82%\n",
      "Recall using Random Forest(200) and bag-of-words features: 31.73%\n"
     ]
    }
   ],
   "source": [
    "rf_model_counts1 = RandomForestClassifier(n_estimators=200)\n",
    "rf_model_counts1.fit(X_train_counts, train_df['label'])\n",
    "\n",
    "# Evaluate the model on the testing set using TF-IDF features\n",
    "y_pred_rf_counts1 = rf_model_counts1.predict(X_test_counts)\n",
    "\n",
    "# Calculate accuracy, F1 score, precision, recall\n",
    "accuracy_rf_counts1 = accuracy_score(test_df['label'], y_pred_rf_counts1)\n",
    "f1_rf_counts1 = f1_score(test_df['label'], y_pred_rf_counts1, average='macro')\n",
    "precision_rf_counts1 = precision_score(test_df['label'], y_pred_rf_counts1, average='macro')\n",
    "recall_rf_counts1 = recall_score(test_df['label'], y_pred_rf_counts1, average='macro')\n",
    "\n",
    "print(\"Accuracy using Random Forest(200) and bag-of-words features: {:.2f}%\".format(accuracy_rf_counts1*100))\n",
    "print(\"F1 Score using Random Forest(200) and bag-of-words features: {:.2f}%\".format(f1_rf_counts1*100))\n",
    "print(\"Precision using Random Forest(200) and bag-of-words features: {:.2f}%\".format(precision_rf_counts1*100))\n",
    "print(\"Recall using Random Forest(200) and bag-of-words features: {:.2f}%\".format(recall_rf_counts1*100))"
   ]
  },
  {
   "cell_type": "code",
   "execution_count": 15,
   "id": "59223a12",
   "metadata": {},
   "outputs": [
    {
     "name": "stdout",
     "output_type": "stream",
     "text": [
      "Accuracy using Random Forest(75) and bag-of-words features: 31.01%\n",
      "F1 Score using Random Forest(75) and bag-of-words features: 29.96%\n",
      "Precision using Random Forest(75) and bag-of-words features: 31.26%\n",
      "Recall using Random Forest(75) and bag-of-words features: 30.39%\n"
     ]
    }
   ],
   "source": [
    "rf_model_counts2 = RandomForestClassifier(n_estimators=75)\n",
    "rf_model_counts2.fit(X_train_counts, train_df['label'])\n",
    "\n",
    "# Evaluate the model on the testing set using TF-IDF features\n",
    "y_pred_rf_counts2 = rf_model_counts2.predict(X_test_counts)\n",
    "\n",
    "# Calculate accuracy, F1 score, precision, recall\n",
    "accuracy_rf_counts2 = accuracy_score(test_df['label'], y_pred_rf_counts2)\n",
    "f1_rf_counts2 = f1_score(test_df['label'], y_pred_rf_counts2, average='macro')\n",
    "precision_rf_counts2 = precision_score(test_df['label'], y_pred_rf_counts2, average='macro')\n",
    "recall_rf_counts2 = recall_score(test_df['label'], y_pred_rf_counts2, average='macro')\n",
    "\n",
    "print(\"Accuracy using Random Forest(75) and bag-of-words features: {:.2f}%\".format(accuracy_rf_counts2*100))\n",
    "print(\"F1 Score using Random Forest(75) and bag-of-words features: {:.2f}%\".format(f1_rf_counts2*100))\n",
    "print(\"Precision using Random Forest(75) and bag-of-words features: {:.2f}%\".format(precision_rf_counts2*100))\n",
    "print(\"Recall using Random Forest(75) and bag-of-words features: {:.2f}%\".format(recall_rf_counts2*100))"
   ]
  },
  {
   "cell_type": "code",
   "execution_count": 16,
   "id": "5bea5ba7",
   "metadata": {},
   "outputs": [
    {
     "name": "stdout",
     "output_type": "stream",
     "text": [
      "Accuracy using Random Forest(275) and bag-of-words features: 30.51%\n",
      "F1 Score using Random Forest(275) and bag-of-words features: 29.45%\n",
      "Precision using Random Forest(275) and bag-of-words features: 30.42%\n",
      "Recall using Random Forest(275) and bag-of-words features: 29.81%\n"
     ]
    }
   ],
   "source": [
    "rf_model_counts3 = RandomForestClassifier(n_estimators=275)\n",
    "rf_model_counts3.fit(X_train_counts, train_df['label'])\n",
    "\n",
    "# Evaluate the model on the testing set using TF-IDF features\n",
    "y_pred_rf_counts3 = rf_model_counts3.predict(X_test_counts)\n",
    "\n",
    "# Calculate accuracy, F1 score, precision, recall\n",
    "accuracy_rf_counts3 = accuracy_score(test_df['label'], y_pred_rf_counts3)\n",
    "f1_rf_counts3 = f1_score(test_df['label'], y_pred_rf_counts3, average='macro')\n",
    "precision_rf_counts3 = precision_score(test_df['label'], y_pred_rf_counts3, average='macro')\n",
    "recall_rf_counts3 = recall_score(test_df['label'], y_pred_rf_counts3, average='macro')\n",
    "\n",
    "print(\"Accuracy using Random Forest(275) and bag-of-words features: {:.2f}%\".format(accuracy_rf_counts3*100))\n",
    "print(\"F1 Score using Random Forest(275) and bag-of-words features: {:.2f}%\".format(f1_rf_counts3*100))\n",
    "print(\"Precision using Random Forest(275) and bag-of-words features: {:.2f}%\".format(precision_rf_counts3*100))\n",
    "print(\"Recall using Random Forest(275) and bag-of-words features: {:.2f}%\".format(recall_rf_counts3*100))"
   ]
  },
  {
   "cell_type": "code",
   "execution_count": 17,
   "id": "02c99eae",
   "metadata": {},
   "outputs": [
    {
     "name": "stdout",
     "output_type": "stream",
     "text": [
      "Accuracy using Random Forest(300) and bag-of-words features: 32.67%\n",
      "F1 Score using Random Forest(300) and bag-of-words features: 31.65%\n",
      "Precision using Random Forest(300) and bag-of-words features: 32.96%\n",
      "Recall using Random Forest(300) and bag-of-words features: 32.03%\n"
     ]
    }
   ],
   "source": [
    "rf_model_counts4 = RandomForestClassifier(n_estimators=300)\n",
    "rf_model_counts4.fit(X_train_counts, train_df['label'])\n",
    "\n",
    "# Evaluate the model on the testing set using bag-of-words features\n",
    "y_pred_rf_counts4 = rf_model_counts4.predict(X_test_counts)\n",
    "\n",
    "# Calculate accuracy, F1 score, precision, recall\n",
    "accuracy_rf_counts4 = accuracy_score(test_df['label'], y_pred_rf_counts4)\n",
    "f1_rf_counts4 = f1_score(test_df['label'], y_pred_rf_counts4, average='macro')\n",
    "precision_rf_counts4 = precision_score(test_df['label'], y_pred_rf_counts4, average='macro')\n",
    "recall_rf_counts4 = recall_score(test_df['label'], y_pred_rf_counts4, average='macro')\n",
    "\n",
    "print(\"Accuracy using Random Forest(300) and bag-of-words features: {:.2f}%\".format(accuracy_rf_counts4*100))\n",
    "print(\"F1 Score using Random Forest(300) and bag-of-words features: {:.2f}%\".format(f1_rf_counts4*100))\n",
    "print(\"Precision using Random Forest(300) and bag-of-words features: {:.2f}%\".format(precision_rf_counts4*100))\n",
    "print(\"Recall using Random Forest(300) and bag-of-words features: {:.2f}%\".format(recall_rf_counts4*100))"
   ]
  },
  {
   "cell_type": "code",
   "execution_count": 18,
   "id": "f10ccd25",
   "metadata": {},
   "outputs": [
    {
     "data": {
      "image/png": "[encoded data removed]",
      "text/plain": [
       "<Figure size 432x288 with 1 Axes>"
      ]
     },
     "metadata": {
      "needs_background": "light"
     },
     "output_type": "display_data"
    },
    {
     "data": {
      "image/png": "[encoded data removed]",
      "text/plain": [
       "<Figure size 432x288 with 1 Axes>"
      ]
     },
     "metadata": {
      "needs_background": "light"
     },
     "output_type": "display_data"
    }
   ],
   "source": [
    "alpha_values = ['75', '100', '200', '275', '300']\n",
    "accuracies = [ 32.50, 33.67, 32.34, 32.01, 32.34]\n",
    "\n",
    "plt.bar(alpha_values, accuracies)\n",
    "plt.title('Accuracy of bag-of-words + Random forest (with different n_estimators values)')\n",
    "plt.xlabel('n_estimators')\n",
    "plt.ylabel('Accuracy %')\n",
    "plt.show()\n",
    "plt.plot(alpha_values, accuracies)\n",
    "plt.title('Accuracy vs n_estimators')\n",
    "plt.xlabel('n_estimators')\n",
    "plt.ylabel('Accuracy %')\n",
    "plt.show()"
   ]
  },
  {
   "cell_type": "code",
   "execution_count": 19,
   "id": "45740c20",
   "metadata": {},
   "outputs": [
    {
     "name": "stdout",
     "output_type": "stream",
     "text": [
      "Accuracy using logistic regression and TF-IDF features with C=0.1: 0.3101160862354892\n",
      "Accuracy using logistic regression and TF-IDF features with C=0.5: 0.3250414593698176\n",
      "Accuracy using logistic regression and TF-IDF features with C=1: 0.31840796019900497\n"
     ]
    },
    {
     "name": "stderr",
     "output_type": "stream",
     "text": [
      "D:\\anaconda3\\lib\\site-packages\\sklearn\\linear_model\\_logistic.py:814: ConvergenceWarning: lbfgs failed to converge (status=1):\n",
      "STOP: TOTAL NO. of ITERATIONS REACHED LIMIT.\n",
      "\n",
      "Increase the number of iterations (max_iter) or scale the data as shown in:\n",
      "    https://scikit-learn.org/stable/modules/preprocessing.html\n",
      "Please also refer to the documentation for alternative solver options:\n",
      "    https://scikit-learn.org/stable/modules/linear_model.html#logistic-regression\n",
      "  n_iter_i = _check_optimize_result(\n"
     ]
    },
    {
     "name": "stdout",
     "output_type": "stream",
     "text": [
      "Accuracy using logistic regression and TF-IDF features with C=5: 0.3101160862354892\n"
     ]
    },
    {
     "name": "stderr",
     "output_type": "stream",
     "text": [
      "D:\\anaconda3\\lib\\site-packages\\sklearn\\linear_model\\_logistic.py:814: ConvergenceWarning: lbfgs failed to converge (status=1):\n",
      "STOP: TOTAL NO. of ITERATIONS REACHED LIMIT.\n",
      "\n",
      "Increase the number of iterations (max_iter) or scale the data as shown in:\n",
      "    https://scikit-learn.org/stable/modules/preprocessing.html\n",
      "Please also refer to the documentation for alternative solver options:\n",
      "    https://scikit-learn.org/stable/modules/linear_model.html#logistic-regression\n",
      "  n_iter_i = _check_optimize_result(\n"
     ]
    },
    {
     "name": "stdout",
     "output_type": "stream",
     "text": [
      "Accuracy using logistic regression and TF-IDF features with C=10: 0.3067993366500829\n",
      "Accuracy using logistic regression and TF-IDF features: 0.3067993366500829\n",
      "Predicted label for input text: Openness\n",
      "Accuracy using ensemble of models: 0.3283582089552239\n",
      "Predicted label for input text: Conscientiousness\n"
     ]
    }
   ],
   "source": [
    "# # Build a logistic regression model using TF-IDF features\n",
    "# logreg_model = LogisticRegression()\n",
    "# logreg_model.fit(X_train_tfidf, train_df['label'])\n",
    "\n",
    "# Build a logistic regression model using TF-IDF features with different C values\n",
    "C_values = [0.1, 0.5, 1, 5, 10]\n",
    "for C in C_values:\n",
    "    logreg_model = LogisticRegression(C=C)\n",
    "    logreg_model.fit(X_train_tfidf, train_df['label'])\n",
    "\n",
    "    # Evaluate the model on the testing set using TF-IDF features\n",
    "    y_pred_logreg = logreg_model.predict(X_test_tfidf)\n",
    "    accuracy_logreg = accuracy_score(test_df['label'], y_pred_logreg)\n",
    "\n",
    "    print(\"Accuracy using logistic regression and TF-IDF features with C={}:\".format(C), accuracy_logreg)\n",
    "\n",
    "\n",
    "# Evaluate the model on the testing set using TF-IDF features\n",
    "y_pred_logreg = logreg_model.predict(X_test_tfidf)\n",
    "accuracy_logreg = accuracy_score(test_df['label'], y_pred_logreg)\n",
    "print(\"Accuracy using logistic regression and TF-IDF features:\", accuracy_logreg)\n",
    "\n",
    "\n",
    "# Preprocess the text input\n",
    "input_text = \"I have a solution for this problem\"\n",
    "input_text = input_text.lower()\n",
    "input_text = ' '.join([word for word in input_text.split() if word not in stop_words])\n",
    "input_text = word_tokenize(input_text)\n",
    "input_text = [stemmer.stem(word) for word in input_text]\n",
    "input_text = ' '.join(input_text)\n",
    "\n",
    "# Extract features from the preprocessed text input\n",
    "X_input = tfidf_vectorizer.transform([input_text])\n",
    "\n",
    "# Predict the label of the input text using the logistic regression model\n",
    "y_pred_input = logreg_model.predict(X_input)[0]\n",
    "\n",
    "# Print the predicted label\n",
    "print(\"Predicted label for input text:\", y_pred_input)\n",
    "\n",
    "logreg_model = LogisticRegression()\n",
    "logreg_model.fit(X_train_tfidf, train_df['label'])\n",
    "\n",
    "rf_model = RandomForestClassifier(n_estimators=100)\n",
    "rf_model.fit(X_train_tfidf, train_df['label'])\n",
    "\n",
    "# Ensemble the models\n",
    "ensemble_model = VotingClassifier(estimators=[('mnb_counts', mnb_counts_model), \n",
    "                                               ('mnb_tfidf', mnb_tfidf_model), \n",
    "                                               ('logreg', logreg_model), \n",
    "                                               ('rf', rf_model)], \n",
    "                                   voting='hard')\n",
    "\n",
    "ensemble_model.fit(X_train_tfidf, train_df['label'])\n",
    "\n",
    "# Evaluate the model on the testing set\n",
    "y_pred_ensemble = ensemble_model.predict(X_test_tfidf)\n",
    "accuracy_ensemble = accuracy_score(test_df['label'], y_pred_ensemble)\n",
    "print(\"Accuracy using ensemble of models:\", accuracy_ensemble)\n",
    "\n",
    "# Preprocess the text input\n",
    "inp_txt = \"I have a solution for this problem\"\n",
    "inp_txt = inp_txt.lower()\n",
    "inp_txt = ' '.join([word for word in inp_txt.split() if word not in stop_words])\n",
    "inp_txt = word_tokenize(inp_txt)\n",
    "inp_txt = [stemmer.stem(word) for word in inp_txt]\n",
    "inp_txt = ' '.join(inp_txt)\n",
    "\n",
    "# Extract features from the preprocessed text input\n",
    "X_inp = tfidf_vectorizer.transform([inp_txt])\n",
    "\n",
    "# Predict the label of the input text using the logistic regression model\n",
    "y_pred_inp = ensemble_model.predict(X_inp)[0]\n",
    "\n",
    "# Print the predicted label\n",
    "print(\"Predicted label for input text:\", y_pred_inp)"
   ]
  },
  {
   "cell_type": "code",
   "execution_count": null,
   "id": "067367f8",
   "metadata": {},
   "outputs": [],
   "source": []
  }
 ],
 "metadata": {
  "kernelspec": {
   "display_name": "Python 3 (ipykernel)",
   "language": "python",
   "name": "python3"
  },
  "language_info": {
   "codemirror_mode": {
    "name": "ipython",
    "version": 3
   },
   "file_extension": ".py",
   "mimetype": "text/x-python",
   "name": "python",
   "nbconvert_exporter": "python",
   "pygments_lexer": "ipython3",
   "version": "3.9.12"
  }
 },
 "nbformat": 4,
 "nbformat_minor": 5
}
